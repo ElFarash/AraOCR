{
  "nbformat": 4,
  "nbformat_minor": 0,
  "metadata": {
    "colab": {
      "provenance": [],
      "collapsed_sections": []
    },
    "kernelspec": {
      "name": "python3",
      "display_name": "Python 3"
    },
    "language_info": {
      "name": "python"
    }
  },
  "cells": [
    {
      "cell_type": "code",
      "source": [
        "!git clone \"https://github.com/ElFarash/AraOCR.git\""
      ],
      "metadata": {
        "id": "KqGeh2qNfxYU",
        "colab": {
          "base_uri": "https://localhost:8080/"
        },
        "outputId": "d9fb9da0-5956-4738-81ea-a6bd7b5c95e7"
      },
      "execution_count": null,
      "outputs": [
        {
          "output_type": "stream",
          "name": "stdout",
          "text": [
            "Cloning into 'AraOCR'...\n",
            "remote: Enumerating objects: 75123, done.\u001b[K\n",
            "remote: Counting objects: 100% (75123/75123), done.\u001b[K\n",
            "remote: Compressing objects: 100% (74905/74905), done.\u001b[K\n",
            "remote: Total 75123 (delta 195), reused 75120 (delta 195), pack-reused 0\u001b[K\n",
            "Receiving objects: 100% (75123/75123), 30.31 MiB | 25.80 MiB/s, done.\n",
            "Resolving deltas: 100% (195/195), done.\n",
            "Checking out files: 100% (127534/127534), done.\n"
          ]
        }
      ]
    },
    {
      "cell_type": "code",
      "source": [
        "!pip install pybind11\n",
        "!pip install fastwer"
      ],
      "metadata": {
        "colab": {
          "base_uri": "https://localhost:8080/"
        },
        "id": "vl_pGpXajWpU",
        "outputId": "da77531b-c5ab-4375-ad14-50d5e440946c"
      },
      "execution_count": null,
      "outputs": [
        {
          "output_type": "stream",
          "name": "stdout",
          "text": [
            "Looking in indexes: https://pypi.org/simple, https://us-python.pkg.dev/colab-wheels/public/simple/\n",
            "Collecting pybind11\n",
            "  Downloading pybind11-2.10.0-py3-none-any.whl (213 kB)\n",
            "\u001b[K     |████████████████████████████████| 213 kB 27.5 MB/s \n",
            "\u001b[?25hInstalling collected packages: pybind11\n",
            "Successfully installed pybind11-2.10.0\n",
            "Looking in indexes: https://pypi.org/simple, https://us-python.pkg.dev/colab-wheels/public/simple/\n",
            "Collecting fastwer\n",
            "  Downloading fastwer-0.1.3.tar.gz (4.6 kB)\n",
            "Requirement already satisfied: pybind11 in /usr/local/lib/python3.7/dist-packages (from fastwer) (2.10.0)\n",
            "Building wheels for collected packages: fastwer\n",
            "  Building wheel for fastwer (setup.py) ... \u001b[?25l\u001b[?25hdone\n",
            "  Created wheel for fastwer: filename=fastwer-0.1.3-cp37-cp37m-linux_x86_64.whl size=662078 sha256=1a0c51bcc8dc0b5c909751c056ed8538c16b06a19fbfe2212fc70d3355289a13\n",
            "  Stored in directory: /root/.cache/pip/wheels/c8/b6/93/419e758f0c0176d311602763520bcfdec18107be1f15186fe6\n",
            "Successfully built fastwer\n",
            "Installing collected packages: fastwer\n",
            "Successfully installed fastwer-0.1.3\n"
          ]
        }
      ]
    },
    {
      "cell_type": "code",
      "source": [
        "import cv2\n",
        "import fastwer\n",
        "import os\n",
        "import numpy as np\n",
        "import pandas as pd\n",
        "import matplotlib.pyplot as plt\n",
        "from IPython.display import Image, display"
      ],
      "metadata": {
        "id": "_-aYxYtwjpKM"
      },
      "execution_count": null,
      "outputs": []
    },
    {
      "cell_type": "code",
      "source": [
        "img_list = os.listdir('/content/AraOCR/expeirments/1L_NN/test images')\n",
        "img_list = sorted(img_list)\n",
        "img_list"
      ],
      "metadata": {
        "colab": {
          "base_uri": "https://localhost:8080/"
        },
        "id": "8vIsg2CPjs_y",
        "outputId": "d6d210e5-61a5-4a29-d19a-dd44c6bbba27"
      },
      "execution_count": null,
      "outputs": [
        {
          "output_type": "execute_result",
          "data": {
            "text/plain": [
              "['capr1.png',\n",
              " 'capr10.png',\n",
              " 'capr11.png',\n",
              " 'capr12.png',\n",
              " 'capr13.png',\n",
              " 'capr14.png',\n",
              " 'capr15.png',\n",
              " 'capr16.png',\n",
              " 'capr17.png',\n",
              " 'capr18.png',\n",
              " 'capr19.png',\n",
              " 'capr2.png',\n",
              " 'capr20.png',\n",
              " 'capr3.png',\n",
              " 'capr4.png',\n",
              " 'capr5.png',\n",
              " 'capr6.png',\n",
              " 'capr7.png',\n",
              " 'capr8.png',\n",
              " 'capr9.png']"
            ]
          },
          "metadata": {},
          "execution_count": 4
        }
      ]
    },
    {
      "cell_type": "code",
      "source": [
        "# for data visulization \n",
        "for i, img in enumerate(img_list):\n",
        "  print(f'Display sample image {i+1} - {img}')\n",
        "  display(Image(filename=f'/content/AraOCR/expeirments/1L_NN/test images/{img}'))"
      ],
      "metadata": {
        "id": "9_ccWLelj-1V"
      },
      "execution_count": null,
      "outputs": []
    },
    {
      "cell_type": "code",
      "source": [
        "GaussianNB = pd.read_excel('/content/AraOCR/expeirments/Gaussian_Naive_Bayes/NaiveBayes Results.xlsx')\n",
        "\n",
        "GaussianNB.head()"
      ],
      "metadata": {
        "colab": {
          "base_uri": "https://localhost:8080/",
          "height": 206
        },
        "id": "DA8cWBRwkFTU",
        "outputId": "9000a427-8cea-4562-8bb7-a31c6c921e7a"
      },
      "execution_count": null,
      "outputs": [
        {
          "output_type": "execute_result",
          "data": {
            "text/plain": [
              "                  model image_name  \\\n",
              "0  Gaussian_Naive_Bayes      capr1   \n",
              "1  Gaussian_Naive_Bayes     capr10   \n",
              "2  Gaussian_Naive_Bayes     capr11   \n",
              "3  Gaussian_Naive_Bayes     capr12   \n",
              "4  Gaussian_Naive_Bayes     capr13   \n",
              "\n",
              "                                            ref_text  \\\n",
              "0  كتب سالم الرحبي تنطلق اليوم الدور البرامجي الج...   \n",
              "1  يقول الله تبارك وتعال واضرب لهم مثلا اصحاب الق...   \n",
              "2  خرج البخاري في صحيحه عن بي هرير رضي الله عنه ق...   \n",
              "3  احذروا المهلكات التحريش بين الممن وبين البهام ...   \n",
              "4  من وجوه العجاز القرني عجاز القرن في الناصي وصف...   \n",
              "\n",
              "                                          ocr_output      WER      CER  \\\n",
              "0  كتب ضالم اليحمي تلطدقا البوم الدور المايجي اسج...  62.4328  15.5776   \n",
              "1  يقول اععه تبارس وتعال واضرب لهم مثلا اصحاب الق...  56.5084  13.7118   \n",
              "2  خحي اساهارب في صمبحه عن بي هرقر قضي اععه عله ق...  57.7017  15.5118   \n",
              "3  احذروا المهلكات التحريش ببن الفمن وببن البهام ...  50.0000  13.5904   \n",
              "4  فن وجي العجيز القرس هجاز القرن في التاصسي وصف ...  59.8616  16.5356   \n",
              "\n",
              "   Accuracy  Time Consumed  \n",
              "0  0.821844       9.751735  \n",
              "1  0.845000       2.332967  \n",
              "2  0.822191       1.625898  \n",
              "3  0.846886       0.899518  \n",
              "4  0.814124       3.442751  "
            ],
            "text/html": [
              "\n",
              "  <div id=\"df-a99ca0af-1bbd-4c07-90b1-f1fc41e2d3c9\">\n",
              "    <div class=\"colab-df-container\">\n",
              "      <div>\n",
              "<style scoped>\n",
              "    .dataframe tbody tr th:only-of-type {\n",
              "        vertical-align: middle;\n",
              "    }\n",
              "\n",
              "    .dataframe tbody tr th {\n",
              "        vertical-align: top;\n",
              "    }\n",
              "\n",
              "    .dataframe thead th {\n",
              "        text-align: right;\n",
              "    }\n",
              "</style>\n",
              "<table border=\"1\" class=\"dataframe\">\n",
              "  <thead>\n",
              "    <tr style=\"text-align: right;\">\n",
              "      <th></th>\n",
              "      <th>model</th>\n",
              "      <th>image_name</th>\n",
              "      <th>ref_text</th>\n",
              "      <th>ocr_output</th>\n",
              "      <th>WER</th>\n",
              "      <th>CER</th>\n",
              "      <th>Accuracy</th>\n",
              "      <th>Time Consumed</th>\n",
              "    </tr>\n",
              "  </thead>\n",
              "  <tbody>\n",
              "    <tr>\n",
              "      <th>0</th>\n",
              "      <td>Gaussian_Naive_Bayes</td>\n",
              "      <td>capr1</td>\n",
              "      <td>كتب سالم الرحبي تنطلق اليوم الدور البرامجي الج...</td>\n",
              "      <td>كتب ضالم اليحمي تلطدقا البوم الدور المايجي اسج...</td>\n",
              "      <td>62.4328</td>\n",
              "      <td>15.5776</td>\n",
              "      <td>0.821844</td>\n",
              "      <td>9.751735</td>\n",
              "    </tr>\n",
              "    <tr>\n",
              "      <th>1</th>\n",
              "      <td>Gaussian_Naive_Bayes</td>\n",
              "      <td>capr10</td>\n",
              "      <td>يقول الله تبارك وتعال واضرب لهم مثلا اصحاب الق...</td>\n",
              "      <td>يقول اععه تبارس وتعال واضرب لهم مثلا اصحاب الق...</td>\n",
              "      <td>56.5084</td>\n",
              "      <td>13.7118</td>\n",
              "      <td>0.845000</td>\n",
              "      <td>2.332967</td>\n",
              "    </tr>\n",
              "    <tr>\n",
              "      <th>2</th>\n",
              "      <td>Gaussian_Naive_Bayes</td>\n",
              "      <td>capr11</td>\n",
              "      <td>خرج البخاري في صحيحه عن بي هرير رضي الله عنه ق...</td>\n",
              "      <td>خحي اساهارب في صمبحه عن بي هرقر قضي اععه عله ق...</td>\n",
              "      <td>57.7017</td>\n",
              "      <td>15.5118</td>\n",
              "      <td>0.822191</td>\n",
              "      <td>1.625898</td>\n",
              "    </tr>\n",
              "    <tr>\n",
              "      <th>3</th>\n",
              "      <td>Gaussian_Naive_Bayes</td>\n",
              "      <td>capr12</td>\n",
              "      <td>احذروا المهلكات التحريش بين الممن وبين البهام ...</td>\n",
              "      <td>احذروا المهلكات التحريش ببن الفمن وببن البهام ...</td>\n",
              "      <td>50.0000</td>\n",
              "      <td>13.5904</td>\n",
              "      <td>0.846886</td>\n",
              "      <td>0.899518</td>\n",
              "    </tr>\n",
              "    <tr>\n",
              "      <th>4</th>\n",
              "      <td>Gaussian_Naive_Bayes</td>\n",
              "      <td>capr13</td>\n",
              "      <td>من وجوه العجاز القرني عجاز القرن في الناصي وصف...</td>\n",
              "      <td>فن وجي العجيز القرس هجاز القرن في التاصسي وصف ...</td>\n",
              "      <td>59.8616</td>\n",
              "      <td>16.5356</td>\n",
              "      <td>0.814124</td>\n",
              "      <td>3.442751</td>\n",
              "    </tr>\n",
              "  </tbody>\n",
              "</table>\n",
              "</div>\n",
              "      <button class=\"colab-df-convert\" onclick=\"convertToInteractive('df-a99ca0af-1bbd-4c07-90b1-f1fc41e2d3c9')\"\n",
              "              title=\"Convert this dataframe to an interactive table.\"\n",
              "              style=\"display:none;\">\n",
              "        \n",
              "  <svg xmlns=\"http://www.w3.org/2000/svg\" height=\"24px\"viewBox=\"0 0 24 24\"\n",
              "       width=\"24px\">\n",
              "    <path d=\"M0 0h24v24H0V0z\" fill=\"none\"/>\n",
              "    <path d=\"M18.56 5.44l.94 2.06.94-2.06 2.06-.94-2.06-.94-.94-2.06-.94 2.06-2.06.94zm-11 1L8.5 8.5l.94-2.06 2.06-.94-2.06-.94L8.5 2.5l-.94 2.06-2.06.94zm10 10l.94 2.06.94-2.06 2.06-.94-2.06-.94-.94-2.06-.94 2.06-2.06.94z\"/><path d=\"M17.41 7.96l-1.37-1.37c-.4-.4-.92-.59-1.43-.59-.52 0-1.04.2-1.43.59L10.3 9.45l-7.72 7.72c-.78.78-.78 2.05 0 2.83L4 21.41c.39.39.9.59 1.41.59.51 0 1.02-.2 1.41-.59l7.78-7.78 2.81-2.81c.8-.78.8-2.07 0-2.86zM5.41 20L4 18.59l7.72-7.72 1.47 1.35L5.41 20z\"/>\n",
              "  </svg>\n",
              "      </button>\n",
              "      \n",
              "  <style>\n",
              "    .colab-df-container {\n",
              "      display:flex;\n",
              "      flex-wrap:wrap;\n",
              "      gap: 12px;\n",
              "    }\n",
              "\n",
              "    .colab-df-convert {\n",
              "      background-color: #E8F0FE;\n",
              "      border: none;\n",
              "      border-radius: 50%;\n",
              "      cursor: pointer;\n",
              "      display: none;\n",
              "      fill: #1967D2;\n",
              "      height: 32px;\n",
              "      padding: 0 0 0 0;\n",
              "      width: 32px;\n",
              "    }\n",
              "\n",
              "    .colab-df-convert:hover {\n",
              "      background-color: #E2EBFA;\n",
              "      box-shadow: 0px 1px 2px rgba(60, 64, 67, 0.3), 0px 1px 3px 1px rgba(60, 64, 67, 0.15);\n",
              "      fill: #174EA6;\n",
              "    }\n",
              "\n",
              "    [theme=dark] .colab-df-convert {\n",
              "      background-color: #3B4455;\n",
              "      fill: #D2E3FC;\n",
              "    }\n",
              "\n",
              "    [theme=dark] .colab-df-convert:hover {\n",
              "      background-color: #434B5C;\n",
              "      box-shadow: 0px 1px 3px 1px rgba(0, 0, 0, 0.15);\n",
              "      filter: drop-shadow(0px 1px 2px rgba(0, 0, 0, 0.3));\n",
              "      fill: #FFFFFF;\n",
              "    }\n",
              "  </style>\n",
              "\n",
              "      <script>\n",
              "        const buttonEl =\n",
              "          document.querySelector('#df-a99ca0af-1bbd-4c07-90b1-f1fc41e2d3c9 button.colab-df-convert');\n",
              "        buttonEl.style.display =\n",
              "          google.colab.kernel.accessAllowed ? 'block' : 'none';\n",
              "\n",
              "        async function convertToInteractive(key) {\n",
              "          const element = document.querySelector('#df-a99ca0af-1bbd-4c07-90b1-f1fc41e2d3c9');\n",
              "          const dataTable =\n",
              "            await google.colab.kernel.invokeFunction('convertToInteractive',\n",
              "                                                     [key], {});\n",
              "          if (!dataTable) return;\n",
              "\n",
              "          const docLinkHtml = 'Like what you see? Visit the ' +\n",
              "            '<a target=\"_blank\" href=https://colab.research.google.com/notebooks/data_table.ipynb>data table notebook</a>'\n",
              "            + ' to learn more about interactive tables.';\n",
              "          element.innerHTML = '';\n",
              "          dataTable['output_type'] = 'display_data';\n",
              "          await google.colab.output.renderOutput(dataTable, element);\n",
              "          const docLink = document.createElement('div');\n",
              "          docLink.innerHTML = docLinkHtml;\n",
              "          element.appendChild(docLink);\n",
              "        }\n",
              "      </script>\n",
              "    </div>\n",
              "  </div>\n",
              "  "
            ]
          },
          "metadata": {},
          "execution_count": 8
        }
      ]
    },
    {
      "cell_type": "code",
      "source": [
        "# output of the model\n",
        "print(\"showing result of GaussianNB (base model)\")\n",
        "\n",
        "display(Image(filename=\"/content/AraOCR/expeirments/Gaussian_Naive_Bayes/test images/capr2.png\"))\n",
        "ocr_output = open(\"/content/AraOCR/expeirments/Gaussian_Naive_Bayes/ocr_output/text/capr2.txt\", \"r\")\n",
        "FileContent = ocr_output.read()\n",
        "print(FileContent)"
      ],
      "metadata": {
        "colab": {
          "base_uri": "https://localhost:8080/",
          "height": 411
        },
        "id": "Mi-UBWmjm9Ly",
        "outputId": "1f972440-7c85-421d-e29a-354476190566"
      },
      "execution_count": null,
      "outputs": [
        {
          "output_type": "stream",
          "name": "stdout",
          "text": [
            "showing result of GaussianNB (base model)\n"
          ]
        },
        {
          "output_type": "display_data",
          "data": {
            "image/png": "[encoded data removed]",
            "text/plain": [
              "<IPython.core.display.Image object>"
            ]
          },
          "metadata": {}
        },
        {
          "output_type": "stream",
          "name": "stdout",
          "text": [
            "كتبت بدرب الاضفامبلي بالتعاون ببن مدرس جفبل بنت ثاهت وعفاد شون الطلاب بجامع السلطان قابوسي مفثل بجملع الفلون الثشكبث تم افعتاج الحعرضت الهبي عبر ضوهي اعزبن وذلص ثحت رعهب سعهد احماسم لببس بنت عبدالثه الطاب عضو مجدس الدول وذلل بميكز خدصات الطلاب حبث ضم المعرض مجفيع صن اثلوحات القلي واعمعمهره واعمسقوحا فن ادهي احعفافي ووه عي اددوحام توظبف هن اقكولاح وادذب هعقي هن الثجفمع والاثاض ويعتبر فن الكولاج صن وساط التعاهبر الفقي الحديف فواصه توظبف خاصات فثي متلمع يعصاصاحا هلاوراق والاعمش وهلاقعون واعموهد هلمسيهعها كفلهف ههها هعفه الخطوط هههاب هحداث تهبرات ففي ثلاثي الابعاف تضي فضا اللوج وجا المعرض اختتاصا للحدض التي اشرف علبها اسكتور تبلمر طهبشهحي عقساب الفتهن علتشكبسي وهلتي هسثمرت عل مد هسهيه هفد شارل في هلحفن عدد فن مدري الثري الفسه التاهع لصديرب الليب \n"
          ]
        }
      ]
    },
    {
      "cell_type": "code",
      "source": [
        "# Overall performances\n",
        "mean_acc = GaussianNB['Accuracy'].mean()\n",
        "mean_time = GaussianNB['Time Consumed'].mean()\n",
        "mean_wer = GaussianNB['WER'].mean()\n",
        "mean_cer = GaussianNB['CER'].mean()\n",
        "\n",
        "print(\"Overall GaussianNB (baseline) performance:\")\n",
        "print(f'Mean Accuracy = {round(mean_acc*100,2)}%, Average time per image = {round(mean_time,3)}')\n",
        "print(f'Mean CER = {round(mean_cer,3)}, Mean WER = {round(mean_wer,3)}')"
      ],
      "metadata": {
        "colab": {
          "base_uri": "https://localhost:8080/"
        },
        "id": "PX7ujGnTljkM",
        "outputId": "85fee30c-3519-4078-911e-52d643ccd6c6"
      },
      "execution_count": null,
      "outputs": [
        {
          "output_type": "stream",
          "name": "stdout",
          "text": [
            "Overall GaussianNB (baseline) performance:\n",
            "Mean Accuracy = 82.1%, Average time per image = 2.431\n",
            "Mean CER = 15.65, Mean WER = 59.605\n"
          ]
        }
      ]
    },
    {
      "cell_type": "code",
      "source": [
        "SVM = pd.read_excel('/content/AraOCR/expeirments/LinearSVM/LinearSVM Results.xlsx')\n",
        "\n",
        "SVM.head()"
      ],
      "metadata": {
        "colab": {
          "base_uri": "https://localhost:8080/",
          "height": 206
        },
        "id": "kuSlXGdGmJmU",
        "outputId": "0efad616-51d6-466e-d8bb-91eb4e0185d0"
      },
      "execution_count": null,
      "outputs": [
        {
          "output_type": "execute_result",
          "data": {
            "text/plain": [
              "       model image_name                                           ref_text  \\\n",
              "0  LinearSVM      capr1  كتب سالم الرحبي تنطلق اليوم الدور البرامجي الج...   \n",
              "1  LinearSVM     capr10  يقول الله تبارك وتعال واضرب لهم مثلا اصحاب الق...   \n",
              "2  LinearSVM     capr11  خرج البخاري في صحيحه عن بي هرير رضي الله عنه ق...   \n",
              "3  LinearSVM     capr12  احذروا المهلكات التحريش بين الممن وبين البهام ...   \n",
              "4  LinearSVM     capr13  من وجوه العجاز القرني عجاز القرن في الناصي وصف...   \n",
              "\n",
              "                                          ocr_output      WER     CER  \\\n",
              "0  كتب سالم الرحلي تنطلقا اليوم الدور الحاسجي الج...  17.7906  5.1335   \n",
              "1  يقول الله تبارك وتعال واضرب لهم مثلا اصحاب الق...   9.1884  3.1067   \n",
              "2  خرج الاخاري في صحبحه عن بي ورير زضي الله عنه ق...  17.1149  4.3045   \n",
              "3  احذروا المهلكات التحريش بين الممن وبين البهام ...  11.7647  3.9518   \n",
              "4  من وجظ العجاز القرس صجاز القرن في الناصبي وصف ...  17.1857  5.2580   \n",
              "\n",
              "   Accuracy  Time Consumed  \n",
              "0  0.944088      43.619665  \n",
              "1  0.966176      10.711957  \n",
              "2  0.952584       6.880641  \n",
              "3  0.956747       4.002087  \n",
              "4  0.943593      14.485251  "
            ],
            "text/html": [
              "\n",
              "  <div id=\"df-0cadf1d7-3852-42e8-99de-43b5df91f08a\">\n",
              "    <div class=\"colab-df-container\">\n",
              "      <div>\n",
              "<style scoped>\n",
              "    .dataframe tbody tr th:only-of-type {\n",
              "        vertical-align: middle;\n",
              "    }\n",
              "\n",
              "    .dataframe tbody tr th {\n",
              "        vertical-align: top;\n",
              "    }\n",
              "\n",
              "    .dataframe thead th {\n",
              "        text-align: right;\n",
              "    }\n",
              "</style>\n",
              "<table border=\"1\" class=\"dataframe\">\n",
              "  <thead>\n",
              "    <tr style=\"text-align: right;\">\n",
              "      <th></th>\n",
              "      <th>model</th>\n",
              "      <th>image_name</th>\n",
              "      <th>ref_text</th>\n",
              "      <th>ocr_output</th>\n",
              "      <th>WER</th>\n",
              "      <th>CER</th>\n",
              "      <th>Accuracy</th>\n",
              "      <th>Time Consumed</th>\n",
              "    </tr>\n",
              "  </thead>\n",
              "  <tbody>\n",
              "    <tr>\n",
              "      <th>0</th>\n",
              "      <td>LinearSVM</td>\n",
              "      <td>capr1</td>\n",
              "      <td>كتب سالم الرحبي تنطلق اليوم الدور البرامجي الج...</td>\n",
              "      <td>كتب سالم الرحلي تنطلقا اليوم الدور الحاسجي الج...</td>\n",
              "      <td>17.7906</td>\n",
              "      <td>5.1335</td>\n",
              "      <td>0.944088</td>\n",
              "      <td>43.619665</td>\n",
              "    </tr>\n",
              "    <tr>\n",
              "      <th>1</th>\n",
              "      <td>LinearSVM</td>\n",
              "      <td>capr10</td>\n",
              "      <td>يقول الله تبارك وتعال واضرب لهم مثلا اصحاب الق...</td>\n",
              "      <td>يقول الله تبارك وتعال واضرب لهم مثلا اصحاب الق...</td>\n",
              "      <td>9.1884</td>\n",
              "      <td>3.1067</td>\n",
              "      <td>0.966176</td>\n",
              "      <td>10.711957</td>\n",
              "    </tr>\n",
              "    <tr>\n",
              "      <th>2</th>\n",
              "      <td>LinearSVM</td>\n",
              "      <td>capr11</td>\n",
              "      <td>خرج البخاري في صحيحه عن بي هرير رضي الله عنه ق...</td>\n",
              "      <td>خرج الاخاري في صحبحه عن بي ورير زضي الله عنه ق...</td>\n",
              "      <td>17.1149</td>\n",
              "      <td>4.3045</td>\n",
              "      <td>0.952584</td>\n",
              "      <td>6.880641</td>\n",
              "    </tr>\n",
              "    <tr>\n",
              "      <th>3</th>\n",
              "      <td>LinearSVM</td>\n",
              "      <td>capr12</td>\n",
              "      <td>احذروا المهلكات التحريش بين الممن وبين البهام ...</td>\n",
              "      <td>احذروا المهلكات التحريش بين الممن وبين البهام ...</td>\n",
              "      <td>11.7647</td>\n",
              "      <td>3.9518</td>\n",
              "      <td>0.956747</td>\n",
              "      <td>4.002087</td>\n",
              "    </tr>\n",
              "    <tr>\n",
              "      <th>4</th>\n",
              "      <td>LinearSVM</td>\n",
              "      <td>capr13</td>\n",
              "      <td>من وجوه العجاز القرني عجاز القرن في الناصي وصف...</td>\n",
              "      <td>من وجظ العجاز القرس صجاز القرن في الناصبي وصف ...</td>\n",
              "      <td>17.1857</td>\n",
              "      <td>5.2580</td>\n",
              "      <td>0.943593</td>\n",
              "      <td>14.485251</td>\n",
              "    </tr>\n",
              "  </tbody>\n",
              "</table>\n",
              "</div>\n",
              "      <button class=\"colab-df-convert\" onclick=\"convertToInteractive('df-0cadf1d7-3852-42e8-99de-43b5df91f08a')\"\n",
              "              title=\"Convert this dataframe to an interactive table.\"\n",
              "              style=\"display:none;\">\n",
              "        \n",
              "  <svg xmlns=\"http://www.w3.org/2000/svg\" height=\"24px\"viewBox=\"0 0 24 24\"\n",
              "       width=\"24px\">\n",
              "    <path d=\"M0 0h24v24H0V0z\" fill=\"none\"/>\n",
              "    <path d=\"M18.56 5.44l.94 2.06.94-2.06 2.06-.94-2.06-.94-.94-2.06-.94 2.06-2.06.94zm-11 1L8.5 8.5l.94-2.06 2.06-.94-2.06-.94L8.5 2.5l-.94 2.06-2.06.94zm10 10l.94 2.06.94-2.06 2.06-.94-2.06-.94-.94-2.06-.94 2.06-2.06.94z\"/><path d=\"M17.41 7.96l-1.37-1.37c-.4-.4-.92-.59-1.43-.59-.52 0-1.04.2-1.43.59L10.3 9.45l-7.72 7.72c-.78.78-.78 2.05 0 2.83L4 21.41c.39.39.9.59 1.41.59.51 0 1.02-.2 1.41-.59l7.78-7.78 2.81-2.81c.8-.78.8-2.07 0-2.86zM5.41 20L4 18.59l7.72-7.72 1.47 1.35L5.41 20z\"/>\n",
              "  </svg>\n",
              "      </button>\n",
              "      \n",
              "  <style>\n",
              "    .colab-df-container {\n",
              "      display:flex;\n",
              "      flex-wrap:wrap;\n",
              "      gap: 12px;\n",
              "    }\n",
              "\n",
              "    .colab-df-convert {\n",
              "      background-color: #E8F0FE;\n",
              "      border: none;\n",
              "      border-radius: 50%;\n",
              "      cursor: pointer;\n",
              "      display: none;\n",
              "      fill: #1967D2;\n",
              "      height: 32px;\n",
              "      padding: 0 0 0 0;\n",
              "      width: 32px;\n",
              "    }\n",
              "\n",
              "    .colab-df-convert:hover {\n",
              "      background-color: #E2EBFA;\n",
              "      box-shadow: 0px 1px 2px rgba(60, 64, 67, 0.3), 0px 1px 3px 1px rgba(60, 64, 67, 0.15);\n",
              "      fill: #174EA6;\n",
              "    }\n",
              "\n",
              "    [theme=dark] .colab-df-convert {\n",
              "      background-color: #3B4455;\n",
              "      fill: #D2E3FC;\n",
              "    }\n",
              "\n",
              "    [theme=dark] .colab-df-convert:hover {\n",
              "      background-color: #434B5C;\n",
              "      box-shadow: 0px 1px 3px 1px rgba(0, 0, 0, 0.15);\n",
              "      filter: drop-shadow(0px 1px 2px rgba(0, 0, 0, 0.3));\n",
              "      fill: #FFFFFF;\n",
              "    }\n",
              "  </style>\n",
              "\n",
              "      <script>\n",
              "        const buttonEl =\n",
              "          document.querySelector('#df-0cadf1d7-3852-42e8-99de-43b5df91f08a button.colab-df-convert');\n",
              "        buttonEl.style.display =\n",
              "          google.colab.kernel.accessAllowed ? 'block' : 'none';\n",
              "\n",
              "        async function convertToInteractive(key) {\n",
              "          const element = document.querySelector('#df-0cadf1d7-3852-42e8-99de-43b5df91f08a');\n",
              "          const dataTable =\n",
              "            await google.colab.kernel.invokeFunction('convertToInteractive',\n",
              "                                                     [key], {});\n",
              "          if (!dataTable) return;\n",
              "\n",
              "          const docLinkHtml = 'Like what you see? Visit the ' +\n",
              "            '<a target=\"_blank\" href=https://colab.research.google.com/notebooks/data_table.ipynb>data table notebook</a>'\n",
              "            + ' to learn more about interactive tables.';\n",
              "          element.innerHTML = '';\n",
              "          dataTable['output_type'] = 'display_data';\n",
              "          await google.colab.output.renderOutput(dataTable, element);\n",
              "          const docLink = document.createElement('div');\n",
              "          docLink.innerHTML = docLinkHtml;\n",
              "          element.appendChild(docLink);\n",
              "        }\n",
              "      </script>\n",
              "    </div>\n",
              "  </div>\n",
              "  "
            ]
          },
          "metadata": {},
          "execution_count": 18
        }
      ]
    },
    {
      "cell_type": "code",
      "source": [
        "# output of the model\n",
        "print(\"showing result of Linear Support Vector Machine (exp1)\")\n",
        "\n",
        "display(Image(filename=\"/content/AraOCR/expeirments/LinearSVM/test images/capr2.png\"))\n",
        "ocr_output = open(\"/content/AraOCR/expeirments/LinearSVM/ocr_output/text/capr2.txt\", \"r\")\n",
        "FileContent = ocr_output.read()\n",
        "print(FileContent)"
      ],
      "metadata": {
        "colab": {
          "base_uri": "https://localhost:8080/",
          "height": 411
        },
        "id": "jQniLzkln7hc",
        "outputId": "f197de67-dc31-4826-e10d-d5723e7d5745"
      },
      "execution_count": null,
      "outputs": [
        {
          "output_type": "stream",
          "name": "stdout",
          "text": [
            "showing result of Linear Support Vector Machine (exp1)\n"
          ]
        },
        {
          "output_type": "display_data",
          "data": {
            "image/png": "[encoded data removed]",
            "text/plain": [
              "<IPython.core.display.Image object>"
            ]
          },
          "metadata": {}
        },
        {
          "output_type": "stream",
          "name": "stdout",
          "text": [
            "كتبت بدري الاسماعيلي بالتعاون بين مدرس جميل بنت ثابت وعماد شون الطلاب بجامع السلطان قابومن ممثل بجماع الفنون التشكيس تم افتتاح المعرضن الفني عبر بواب الزمن وذلك تحت رعاي سعاد المكزم لميس بنت عبدالله الطاب عضو مجلس الدول وذلك بمركز خدمات الطلاب حيث ضم المعرض مجموع من اللوحات ولقني والمعماري والمستوحا من الحي العماقي وتك وي اللوحات توظيف فف الكولاج والذي يعقي فن الثجميع والاناق ويعتبر فن الكولاج من وساط التعابير الفني الحديث قوامه توظيف خامات فني متنوع ثغصاصاتظ الاوراق والافمش والتزذون والمواد المستهللاا ثضناف هيهه بعضه الخطوط هبوهب لاحداث تثيرات فني ثلاثي الابعاد تضغ فضا اللوح وجا المعرض اختتاما للحلق التي اشرف عليها ايكتور تيلسر طبيشاتا ظخضاي الفنون التشكيلا والتي استمرت عل مد اسبوع وقد شارك في الحلق عدد من مدرر الثرج الفني التاجع لمديرب الليب \n"
          ]
        }
      ]
    },
    {
      "cell_type": "code",
      "source": [
        "# Overall performances\n",
        "mean_acc = SVM['Accuracy'].mean()\n",
        "mean_time = SVM['Time Consumed'].mean()\n",
        "mean_wer = SVM['WER'].mean()\n",
        "mean_cer = SVM['CER'].mean()\n",
        "\n",
        "print(\"Overall Support Vector Machine Classification performance:\")\n",
        "print(f'Mean Accuracy = {round(mean_acc*100,2)}%, Average time per image = {round(mean_time,3)}')\n",
        "print(f'Mean CER = {round(mean_cer,3)}, Mean WER = {round(mean_wer,3)}')"
      ],
      "metadata": {
        "colab": {
          "base_uri": "https://localhost:8080/"
        },
        "id": "QZskNk1noE1t",
        "outputId": "cc643bd9-af3c-41f9-d705-3c256d027948"
      },
      "execution_count": null,
      "outputs": [
        {
          "output_type": "stream",
          "name": "stdout",
          "text": [
            "Overall Support Vector Machine Classification performance:\n",
            "Mean Accuracy = 94.87%, Average time per image = 10.794\n",
            "Mean CER = 4.721, Mean WER = 16.619\n"
          ]
        }
      ]
    },
    {
      "cell_type": "code",
      "source": [
        "Single_Layer_NN = pd.read_excel('/content/AraOCR/expeirments/1L_NN/1L_NN Results.xlsx')\n",
        "\n",
        "Single_Layer_NN.head()"
      ],
      "metadata": {
        "colab": {
          "base_uri": "https://localhost:8080/",
          "height": 206
        },
        "id": "uGOxjTphoMCF",
        "outputId": "6a98a38f-b2d5-49e1-c439-77a0af0b7789"
      },
      "execution_count": null,
      "outputs": [
        {
          "output_type": "execute_result",
          "data": {
            "text/plain": [
              "   model image_name                                           ref_text  \\\n",
              "0  1L_NN      capr1  كتب سالم الرحبي تنطلق اليوم الدور البرامجي الج...   \n",
              "1  1L_NN     capr10  يقول الله تبارك وتعال واضرب لهم مثلا اصحاب الق...   \n",
              "2  1L_NN     capr11  خرج البخاري في صحيحه عن بي هرير رضي الله عنه ق...   \n",
              "3  1L_NN     capr12  احذروا المهلكات التحريش بين الممن وبين البهام ...   \n",
              "4  1L_NN     capr13  من وجوه العجاز القرني عجاز القرن في الناصي وصف...   \n",
              "\n",
              "                                          ocr_output      WER     CER  \\\n",
              "0  كتب سالم الرحبي تنطلقا اليوم الدور الطامجي الج...  16.9218  4.8334   \n",
              "1  يقول الله تبارك وتعال واضرب لهم مثلا اصحاب الق...   8.2695  2.8627   \n",
              "2  خرج الاخاري في صحبحه عن بي هرير رضي الله عنه ق...  12.2249  3.5958   \n",
              "3  احذروا المهلكات التحريش بين الممن وبين البهام ...  10.5042  3.5663   \n",
              "4  من وجا العجاز القرس صجاز القرن في الناصبي وصف ...  14.7636  4.6314   \n",
              "\n",
              "   Accuracy  Time Consumed  \n",
              "0  0.950285      45.286727  \n",
              "1  0.969706      11.156649  \n",
              "2  0.962541       7.146892  \n",
              "3  0.961938       4.092403  \n",
              "4  0.952698      15.249692  "
            ],
            "text/html": [
              "\n",
              "  <div id=\"df-c4cb2c1c-7b9a-431a-a3c2-26adcd35d11e\">\n",
              "    <div class=\"colab-df-container\">\n",
              "      <div>\n",
              "<style scoped>\n",
              "    .dataframe tbody tr th:only-of-type {\n",
              "        vertical-align: middle;\n",
              "    }\n",
              "\n",
              "    .dataframe tbody tr th {\n",
              "        vertical-align: top;\n",
              "    }\n",
              "\n",
              "    .dataframe thead th {\n",
              "        text-align: right;\n",
              "    }\n",
              "</style>\n",
              "<table border=\"1\" class=\"dataframe\">\n",
              "  <thead>\n",
              "    <tr style=\"text-align: right;\">\n",
              "      <th></th>\n",
              "      <th>model</th>\n",
              "      <th>image_name</th>\n",
              "      <th>ref_text</th>\n",
              "      <th>ocr_output</th>\n",
              "      <th>WER</th>\n",
              "      <th>CER</th>\n",
              "      <th>Accuracy</th>\n",
              "      <th>Time Consumed</th>\n",
              "    </tr>\n",
              "  </thead>\n",
              "  <tbody>\n",
              "    <tr>\n",
              "      <th>0</th>\n",
              "      <td>1L_NN</td>\n",
              "      <td>capr1</td>\n",
              "      <td>كتب سالم الرحبي تنطلق اليوم الدور البرامجي الج...</td>\n",
              "      <td>كتب سالم الرحبي تنطلقا اليوم الدور الطامجي الج...</td>\n",
              "      <td>16.9218</td>\n",
              "      <td>4.8334</td>\n",
              "      <td>0.950285</td>\n",
              "      <td>45.286727</td>\n",
              "    </tr>\n",
              "    <tr>\n",
              "      <th>1</th>\n",
              "      <td>1L_NN</td>\n",
              "      <td>capr10</td>\n",
              "      <td>يقول الله تبارك وتعال واضرب لهم مثلا اصحاب الق...</td>\n",
              "      <td>يقول الله تبارك وتعال واضرب لهم مثلا اصحاب الق...</td>\n",
              "      <td>8.2695</td>\n",
              "      <td>2.8627</td>\n",
              "      <td>0.969706</td>\n",
              "      <td>11.156649</td>\n",
              "    </tr>\n",
              "    <tr>\n",
              "      <th>2</th>\n",
              "      <td>1L_NN</td>\n",
              "      <td>capr11</td>\n",
              "      <td>خرج البخاري في صحيحه عن بي هرير رضي الله عنه ق...</td>\n",
              "      <td>خرج الاخاري في صحبحه عن بي هرير رضي الله عنه ق...</td>\n",
              "      <td>12.2249</td>\n",
              "      <td>3.5958</td>\n",
              "      <td>0.962541</td>\n",
              "      <td>7.146892</td>\n",
              "    </tr>\n",
              "    <tr>\n",
              "      <th>3</th>\n",
              "      <td>1L_NN</td>\n",
              "      <td>capr12</td>\n",
              "      <td>احذروا المهلكات التحريش بين الممن وبين البهام ...</td>\n",
              "      <td>احذروا المهلكات التحريش بين الممن وبين البهام ...</td>\n",
              "      <td>10.5042</td>\n",
              "      <td>3.5663</td>\n",
              "      <td>0.961938</td>\n",
              "      <td>4.092403</td>\n",
              "    </tr>\n",
              "    <tr>\n",
              "      <th>4</th>\n",
              "      <td>1L_NN</td>\n",
              "      <td>capr13</td>\n",
              "      <td>من وجوه العجاز القرني عجاز القرن في الناصي وصف...</td>\n",
              "      <td>من وجا العجاز القرس صجاز القرن في الناصبي وصف ...</td>\n",
              "      <td>14.7636</td>\n",
              "      <td>4.6314</td>\n",
              "      <td>0.952698</td>\n",
              "      <td>15.249692</td>\n",
              "    </tr>\n",
              "  </tbody>\n",
              "</table>\n",
              "</div>\n",
              "      <button class=\"colab-df-convert\" onclick=\"convertToInteractive('df-c4cb2c1c-7b9a-431a-a3c2-26adcd35d11e')\"\n",
              "              title=\"Convert this dataframe to an interactive table.\"\n",
              "              style=\"display:none;\">\n",
              "        \n",
              "  <svg xmlns=\"http://www.w3.org/2000/svg\" height=\"24px\"viewBox=\"0 0 24 24\"\n",
              "       width=\"24px\">\n",
              "    <path d=\"M0 0h24v24H0V0z\" fill=\"none\"/>\n",
              "    <path d=\"M18.56 5.44l.94 2.06.94-2.06 2.06-.94-2.06-.94-.94-2.06-.94 2.06-2.06.94zm-11 1L8.5 8.5l.94-2.06 2.06-.94-2.06-.94L8.5 2.5l-.94 2.06-2.06.94zm10 10l.94 2.06.94-2.06 2.06-.94-2.06-.94-.94-2.06-.94 2.06-2.06.94z\"/><path d=\"M17.41 7.96l-1.37-1.37c-.4-.4-.92-.59-1.43-.59-.52 0-1.04.2-1.43.59L10.3 9.45l-7.72 7.72c-.78.78-.78 2.05 0 2.83L4 21.41c.39.39.9.59 1.41.59.51 0 1.02-.2 1.41-.59l7.78-7.78 2.81-2.81c.8-.78.8-2.07 0-2.86zM5.41 20L4 18.59l7.72-7.72 1.47 1.35L5.41 20z\"/>\n",
              "  </svg>\n",
              "      </button>\n",
              "      \n",
              "  <style>\n",
              "    .colab-df-container {\n",
              "      display:flex;\n",
              "      flex-wrap:wrap;\n",
              "      gap: 12px;\n",
              "    }\n",
              "\n",
              "    .colab-df-convert {\n",
              "      background-color: #E8F0FE;\n",
              "      border: none;\n",
              "      border-radius: 50%;\n",
              "      cursor: pointer;\n",
              "      display: none;\n",
              "      fill: #1967D2;\n",
              "      height: 32px;\n",
              "      padding: 0 0 0 0;\n",
              "      width: 32px;\n",
              "    }\n",
              "\n",
              "    .colab-df-convert:hover {\n",
              "      background-color: #E2EBFA;\n",
              "      box-shadow: 0px 1px 2px rgba(60, 64, 67, 0.3), 0px 1px 3px 1px rgba(60, 64, 67, 0.15);\n",
              "      fill: #174EA6;\n",
              "    }\n",
              "\n",
              "    [theme=dark] .colab-df-convert {\n",
              "      background-color: #3B4455;\n",
              "      fill: #D2E3FC;\n",
              "    }\n",
              "\n",
              "    [theme=dark] .colab-df-convert:hover {\n",
              "      background-color: #434B5C;\n",
              "      box-shadow: 0px 1px 3px 1px rgba(0, 0, 0, 0.15);\n",
              "      filter: drop-shadow(0px 1px 2px rgba(0, 0, 0, 0.3));\n",
              "      fill: #FFFFFF;\n",
              "    }\n",
              "  </style>\n",
              "\n",
              "      <script>\n",
              "        const buttonEl =\n",
              "          document.querySelector('#df-c4cb2c1c-7b9a-431a-a3c2-26adcd35d11e button.colab-df-convert');\n",
              "        buttonEl.style.display =\n",
              "          google.colab.kernel.accessAllowed ? 'block' : 'none';\n",
              "\n",
              "        async function convertToInteractive(key) {\n",
              "          const element = document.querySelector('#df-c4cb2c1c-7b9a-431a-a3c2-26adcd35d11e');\n",
              "          const dataTable =\n",
              "            await google.colab.kernel.invokeFunction('convertToInteractive',\n",
              "                                                     [key], {});\n",
              "          if (!dataTable) return;\n",
              "\n",
              "          const docLinkHtml = 'Like what you see? Visit the ' +\n",
              "            '<a target=\"_blank\" href=https://colab.research.google.com/notebooks/data_table.ipynb>data table notebook</a>'\n",
              "            + ' to learn more about interactive tables.';\n",
              "          element.innerHTML = '';\n",
              "          dataTable['output_type'] = 'display_data';\n",
              "          await google.colab.output.renderOutput(dataTable, element);\n",
              "          const docLink = document.createElement('div');\n",
              "          docLink.innerHTML = docLinkHtml;\n",
              "          element.appendChild(docLink);\n",
              "        }\n",
              "      </script>\n",
              "    </div>\n",
              "  </div>\n",
              "  "
            ]
          },
          "metadata": {},
          "execution_count": 21
        }
      ]
    },
    {
      "cell_type": "code",
      "source": [
        "# output of the model\n",
        "print(\"showing result of 1L_NN (exp2)\")\n",
        "\n",
        "display(Image(filename=\"/content/AraOCR/expeirments/1L_NN/test images/capr2.png\"))\n",
        "ocr_output = open(\"/content/AraOCR/expeirments/1L_NN/ocr_output/text/capr2.txt\", \"r\")\n",
        "FileContent = ocr_output.read()\n",
        "print(FileContent)"
      ],
      "metadata": {
        "colab": {
          "base_uri": "https://localhost:8080/",
          "height": 411
        },
        "id": "q6rMfoLsoZfg",
        "outputId": "599286fa-f5e0-4670-b10c-9cf9f7154bd3"
      },
      "execution_count": null,
      "outputs": [
        {
          "output_type": "stream",
          "name": "stdout",
          "text": [
            "showing result of 1L_NN (exp2)\n"
          ]
        },
        {
          "output_type": "display_data",
          "data": {
            "image/png": "[encoded data removed]",
            "text/plain": [
              "<IPython.core.display.Image object>"
            ]
          },
          "metadata": {}
        },
        {
          "output_type": "stream",
          "name": "stdout",
          "text": [
            "كتبت بدري الاسماعيلي بالتعاون بين مدرس جميل بنت ثابت وعماد شون الطلاب بجامع السلطان قابوصت ممثل بجماع الفنون التشكيس تم افتتاح المعرضت الفني عبر بواب الزمن وذلك تحت رعاي سعاد المكزم لميس بنت عبدالله الطاي عضو مجلس الدول وذلك بمركز خدمات الطلاب حيث ضم المعرض مجموع من اللوحات ولفني والمعماري والمستوحا من اللاي العمافي وزس خي اللوحات توظيف فر الكولاج والذي يعني فن التجميع والاناق ويعتبر فن الكولاج من وساط التعابير الفني الحديث قوامه توظيف خامات فني متنلاع كخصاصاتا الاوراق والالامش والكزتون والمواد المستهلغا تضنعف هيهه بعضه الخطوط طبواب لاحداث تثيرات فني ثلاثي الابعاد تضب فضا اللوح وجا المعرض اختتاما للحلق التي اشرف عليها امكتور تيلسر طبيشاحا اخصاي الفنون التشكيلي والتي استمرت عل مد اسبوع وقد شارك في الحلق عدد من مدرب الترس الفني التابع لمديري اللسب \n"
          ]
        }
      ]
    },
    {
      "cell_type": "code",
      "source": [
        "# Overall performances\n",
        "mean_acc = Single_Layer_NN['Accuracy'].mean()\n",
        "mean_time = Single_Layer_NN['Time Consumed'].mean()\n",
        "mean_wer = Single_Layer_NN['WER'].mean()\n",
        "mean_cer = Single_Layer_NN['CER'].mean()\n",
        "\n",
        "print(\"Overall Single Layer Neural Network performance:\")\n",
        "print(f'Mean Accuracy = {round(mean_acc*100,2)}%, Average time per image = {round(mean_time,3)}')\n",
        "print(f'Mean CER = {round(mean_cer,3)}, Mean WER = {round(mean_wer,3)}')"
      ],
      "metadata": {
        "colab": {
          "base_uri": "https://localhost:8080/"
        },
        "id": "ruLlNaxyofm-",
        "outputId": "c1927182-7ab3-43fc-c07f-a107154c5fb4"
      },
      "execution_count": null,
      "outputs": [
        {
          "output_type": "stream",
          "name": "stdout",
          "text": [
            "Overall Single Layer Neural Network performance:\n",
            "Mean Accuracy = 95.61%, Average time per image = 11.12\n",
            "Mean CER = 4.148, Mean WER = 13.756\n"
          ]
        }
      ]
    },
    {
      "cell_type": "code",
      "source": [
        "Muiti_Layer_NN = pd.read_excel('/content/AraOCR/expeirments/2L_NN/2L_NN Results.xlsx')\n",
        "\n",
        "Muiti_Layer_NN.head()"
      ],
      "metadata": {
        "colab": {
          "base_uri": "https://localhost:8080/",
          "height": 206
        },
        "id": "LpSgG5lRoqgG",
        "outputId": "64211d53-8d08-47bb-c12b-d915e9999d7a"
      },
      "execution_count": null,
      "outputs": [
        {
          "output_type": "execute_result",
          "data": {
            "text/plain": [
              "   model image_name                                           ref_text  \\\n",
              "0  2L_NN      capr1  كتب سالم الرحبي تنطلق اليوم الدور البرامجي الج...   \n",
              "1  2L_NN     capr10  يقول الله تبارك وتعال واضرب لهم مثلا اصحاب الق...   \n",
              "2  2L_NN     capr11  خرج البخاري في صحيحه عن بي هرير رضي الله عنه ق...   \n",
              "3  2L_NN     capr12  احذروا المهلكات التحريش بين الممن وبين البهام ...   \n",
              "4  2L_NN     capr13  من وجوه العجاز القرني عجاز القرن في الناصي وصف...   \n",
              "\n",
              "                                          ocr_output      WER     CER  \\\n",
              "0  كتب سالم الرحبي تنطلقا اليوم الدور الطامجي الج...  16.7563  4.5178   \n",
              "1  يقول الله تبارك وتعال واضرب لهم مثلا اصحاب الق...   8.5758  2.7814   \n",
              "2  خرج الاخاري في صحبحه عن بي هرير رضي الله عنه ق...  11.2469  3.0184   \n",
              "3  احذروا المهلكات التحريش بين الممن وبين البهام ...  10.5042  3.4699   \n",
              "4  من وجو العجاز القرس يجاز القرن في الناصبي وصف ...  14.7636  4.2875   \n",
              "\n",
              "   Accuracy  Time Consumed  \n",
              "0  0.951201      50.286273  \n",
              "1  0.970294      12.348636  \n",
              "2  0.966809       8.160170  \n",
              "3  0.962803       4.580173  \n",
              "4  0.954475      16.864990  "
            ],
            "text/html": [
              "\n",
              "  <div id=\"df-08aebba1-2654-48fd-bfb9-b3690eda83c5\">\n",
              "    <div class=\"colab-df-container\">\n",
              "      <div>\n",
              "<style scoped>\n",
              "    .dataframe tbody tr th:only-of-type {\n",
              "        vertical-align: middle;\n",
              "    }\n",
              "\n",
              "    .dataframe tbody tr th {\n",
              "        vertical-align: top;\n",
              "    }\n",
              "\n",
              "    .dataframe thead th {\n",
              "        text-align: right;\n",
              "    }\n",
              "</style>\n",
              "<table border=\"1\" class=\"dataframe\">\n",
              "  <thead>\n",
              "    <tr style=\"text-align: right;\">\n",
              "      <th></th>\n",
              "      <th>model</th>\n",
              "      <th>image_name</th>\n",
              "      <th>ref_text</th>\n",
              "      <th>ocr_output</th>\n",
              "      <th>WER</th>\n",
              "      <th>CER</th>\n",
              "      <th>Accuracy</th>\n",
              "      <th>Time Consumed</th>\n",
              "    </tr>\n",
              "  </thead>\n",
              "  <tbody>\n",
              "    <tr>\n",
              "      <th>0</th>\n",
              "      <td>2L_NN</td>\n",
              "      <td>capr1</td>\n",
              "      <td>كتب سالم الرحبي تنطلق اليوم الدور البرامجي الج...</td>\n",
              "      <td>كتب سالم الرحبي تنطلقا اليوم الدور الطامجي الج...</td>\n",
              "      <td>16.7563</td>\n",
              "      <td>4.5178</td>\n",
              "      <td>0.951201</td>\n",
              "      <td>50.286273</td>\n",
              "    </tr>\n",
              "    <tr>\n",
              "      <th>1</th>\n",
              "      <td>2L_NN</td>\n",
              "      <td>capr10</td>\n",
              "      <td>يقول الله تبارك وتعال واضرب لهم مثلا اصحاب الق...</td>\n",
              "      <td>يقول الله تبارك وتعال واضرب لهم مثلا اصحاب الق...</td>\n",
              "      <td>8.5758</td>\n",
              "      <td>2.7814</td>\n",
              "      <td>0.970294</td>\n",
              "      <td>12.348636</td>\n",
              "    </tr>\n",
              "    <tr>\n",
              "      <th>2</th>\n",
              "      <td>2L_NN</td>\n",
              "      <td>capr11</td>\n",
              "      <td>خرج البخاري في صحيحه عن بي هرير رضي الله عنه ق...</td>\n",
              "      <td>خرج الاخاري في صحبحه عن بي هرير رضي الله عنه ق...</td>\n",
              "      <td>11.2469</td>\n",
              "      <td>3.0184</td>\n",
              "      <td>0.966809</td>\n",
              "      <td>8.160170</td>\n",
              "    </tr>\n",
              "    <tr>\n",
              "      <th>3</th>\n",
              "      <td>2L_NN</td>\n",
              "      <td>capr12</td>\n",
              "      <td>احذروا المهلكات التحريش بين الممن وبين البهام ...</td>\n",
              "      <td>احذروا المهلكات التحريش بين الممن وبين البهام ...</td>\n",
              "      <td>10.5042</td>\n",
              "      <td>3.4699</td>\n",
              "      <td>0.962803</td>\n",
              "      <td>4.580173</td>\n",
              "    </tr>\n",
              "    <tr>\n",
              "      <th>4</th>\n",
              "      <td>2L_NN</td>\n",
              "      <td>capr13</td>\n",
              "      <td>من وجوه العجاز القرني عجاز القرن في الناصي وصف...</td>\n",
              "      <td>من وجو العجاز القرس يجاز القرن في الناصبي وصف ...</td>\n",
              "      <td>14.7636</td>\n",
              "      <td>4.2875</td>\n",
              "      <td>0.954475</td>\n",
              "      <td>16.864990</td>\n",
              "    </tr>\n",
              "  </tbody>\n",
              "</table>\n",
              "</div>\n",
              "      <button class=\"colab-df-convert\" onclick=\"convertToInteractive('df-08aebba1-2654-48fd-bfb9-b3690eda83c5')\"\n",
              "              title=\"Convert this dataframe to an interactive table.\"\n",
              "              style=\"display:none;\">\n",
              "        \n",
              "  <svg xmlns=\"http://www.w3.org/2000/svg\" height=\"24px\"viewBox=\"0 0 24 24\"\n",
              "       width=\"24px\">\n",
              "    <path d=\"M0 0h24v24H0V0z\" fill=\"none\"/>\n",
              "    <path d=\"M18.56 5.44l.94 2.06.94-2.06 2.06-.94-2.06-.94-.94-2.06-.94 2.06-2.06.94zm-11 1L8.5 8.5l.94-2.06 2.06-.94-2.06-.94L8.5 2.5l-.94 2.06-2.06.94zm10 10l.94 2.06.94-2.06 2.06-.94-2.06-.94-.94-2.06-.94 2.06-2.06.94z\"/><path d=\"M17.41 7.96l-1.37-1.37c-.4-.4-.92-.59-1.43-.59-.52 0-1.04.2-1.43.59L10.3 9.45l-7.72 7.72c-.78.78-.78 2.05 0 2.83L4 21.41c.39.39.9.59 1.41.59.51 0 1.02-.2 1.41-.59l7.78-7.78 2.81-2.81c.8-.78.8-2.07 0-2.86zM5.41 20L4 18.59l7.72-7.72 1.47 1.35L5.41 20z\"/>\n",
              "  </svg>\n",
              "      </button>\n",
              "      \n",
              "  <style>\n",
              "    .colab-df-container {\n",
              "      display:flex;\n",
              "      flex-wrap:wrap;\n",
              "      gap: 12px;\n",
              "    }\n",
              "\n",
              "    .colab-df-convert {\n",
              "      background-color: #E8F0FE;\n",
              "      border: none;\n",
              "      border-radius: 50%;\n",
              "      cursor: pointer;\n",
              "      display: none;\n",
              "      fill: #1967D2;\n",
              "      height: 32px;\n",
              "      padding: 0 0 0 0;\n",
              "      width: 32px;\n",
              "    }\n",
              "\n",
              "    .colab-df-convert:hover {\n",
              "      background-color: #E2EBFA;\n",
              "      box-shadow: 0px 1px 2px rgba(60, 64, 67, 0.3), 0px 1px 3px 1px rgba(60, 64, 67, 0.15);\n",
              "      fill: #174EA6;\n",
              "    }\n",
              "\n",
              "    [theme=dark] .colab-df-convert {\n",
              "      background-color: #3B4455;\n",
              "      fill: #D2E3FC;\n",
              "    }\n",
              "\n",
              "    [theme=dark] .colab-df-convert:hover {\n",
              "      background-color: #434B5C;\n",
              "      box-shadow: 0px 1px 3px 1px rgba(0, 0, 0, 0.15);\n",
              "      filter: drop-shadow(0px 1px 2px rgba(0, 0, 0, 0.3));\n",
              "      fill: #FFFFFF;\n",
              "    }\n",
              "  </style>\n",
              "\n",
              "      <script>\n",
              "        const buttonEl =\n",
              "          document.querySelector('#df-08aebba1-2654-48fd-bfb9-b3690eda83c5 button.colab-df-convert');\n",
              "        buttonEl.style.display =\n",
              "          google.colab.kernel.accessAllowed ? 'block' : 'none';\n",
              "\n",
              "        async function convertToInteractive(key) {\n",
              "          const element = document.querySelector('#df-08aebba1-2654-48fd-bfb9-b3690eda83c5');\n",
              "          const dataTable =\n",
              "            await google.colab.kernel.invokeFunction('convertToInteractive',\n",
              "                                                     [key], {});\n",
              "          if (!dataTable) return;\n",
              "\n",
              "          const docLinkHtml = 'Like what you see? Visit the ' +\n",
              "            '<a target=\"_blank\" href=https://colab.research.google.com/notebooks/data_table.ipynb>data table notebook</a>'\n",
              "            + ' to learn more about interactive tables.';\n",
              "          element.innerHTML = '';\n",
              "          dataTable['output_type'] = 'display_data';\n",
              "          await google.colab.output.renderOutput(dataTable, element);\n",
              "          const docLink = document.createElement('div');\n",
              "          docLink.innerHTML = docLinkHtml;\n",
              "          element.appendChild(docLink);\n",
              "        }\n",
              "      </script>\n",
              "    </div>\n",
              "  </div>\n",
              "  "
            ]
          },
          "metadata": {},
          "execution_count": 24
        }
      ]
    },
    {
      "cell_type": "code",
      "source": [
        "# output of the model\n",
        "print(\"showing result of 2L_NN (exp3)\")\n",
        "\n",
        "display(Image(filename=\"/content/AraOCR/expeirments/2L_NN/test images/capr2.png\"))\n",
        "ocr_output = open(\"/content/AraOCR/expeirments/2L_NN/ocr_output/text/capr2.txt\", \"r\")\n",
        "FileContent = ocr_output.read()\n",
        "print(FileContent)"
      ],
      "metadata": {
        "colab": {
          "base_uri": "https://localhost:8080/",
          "height": 411
        },
        "id": "E2sls9DxoyJ9",
        "outputId": "c015aa02-94ff-4c2c-bfd9-27e8139de5f2"
      },
      "execution_count": null,
      "outputs": [
        {
          "output_type": "stream",
          "name": "stdout",
          "text": [
            "showing result of 2L_NN (exp3)\n"
          ]
        },
        {
          "output_type": "display_data",
          "data": {
            "image/png": "[encoded data removed]",
            "text/plain": [
              "<IPython.core.display.Image object>"
            ]
          },
          "metadata": {}
        },
        {
          "output_type": "stream",
          "name": "stdout",
          "text": [
            "كتبت بدري الاسماعيلي بالتعاون بين مدرس جميل بنت ثابت وعماد شون الطلاب بجامع السلطان قابومل ممثل بجماع الفنون التشكيس تم افتتاح المعرضل الفني عبر بواب الزمن وذلك ثحت رعبي سعاد المكخم لميس بنت عبدالله الطاي عضو مجلس الدول وذلك بمركز خدمات الطلاب حيث ضم المعرض مجموع من اللوحات ولفني والمعماري والمستوحا من البي العماقي وزس في اللوحات توظيف فه الكولاج والذي يعتي فن التجميع والاناق ويعتبر فن الكولاج من وساط التعابير الفني الحديث قوامه توظيف خامات فني متنوع تغصاصازا الاوراق والاطمش والتزتون والمواد المستهللا تضلاف كيها بعضل الخطوط طبواب لاحداث تثيرات فني ثلاثي الابعاد تضر فضا اللوح وجا المعرض اختتاما للحلق التي اشرف عليها انكتور تيلسر طبيشازا اخصاي الفنون التشكيلي والتي استمرت عل مد اسبوع وقد شارك في الحلق عدد من مدري الترس الفني التابع لمديري اللسب \n"
          ]
        }
      ]
    },
    {
      "cell_type": "code",
      "source": [
        "# Overall performances\n",
        "mean_acc = Muiti_Layer_NN['Accuracy'].mean()\n",
        "mean_time = Muiti_Layer_NN['Time Consumed'].mean()\n",
        "mean_wer = Muiti_Layer_NN['WER'].mean()\n",
        "mean_cer = Muiti_Layer_NN['CER'].mean()\n",
        "\n",
        "print(\"Overall Multi Layer Neural Network performance:\")\n",
        "print(f'Mean Accuracy = {round(mean_acc*100,2)}%, Average time per image = {round(mean_time,3)}')\n",
        "print(f'Mean CER = {round(mean_cer,3)}, Mean WER = {round(mean_wer,3)}')"
      ],
      "metadata": {
        "colab": {
          "base_uri": "https://localhost:8080/"
        },
        "id": "si5f7YHPo1sx",
        "outputId": "101238bf-a549-463b-b974-b3e4de8356f6"
      },
      "execution_count": null,
      "outputs": [
        {
          "output_type": "stream",
          "name": "stdout",
          "text": [
            "Overall Multi Layer Neural Network performance:\n",
            "Mean Accuracy = 95.87%, Average time per image = 12.291\n",
            "Mean CER = 3.822, Mean WER = 13.153\n"
          ]
        }
      ]
    },
    {
      "cell_type": "code",
      "source": [
        "#Overall\n",
        "columns = [\"Model\" , \"Accuracy\" , \"Average Time Consumed\" , \"WER\" , \"CER\"]\n",
        "df = pd.DataFrame(columns = columns)\n",
        "\n",
        "\n",
        "def insert(df, row):\n",
        "    insert_loc = df.index.max()\n",
        "\n",
        "    if pd.isna(insert_loc):\n",
        "        df.loc[0] = row\n",
        "    else:\n",
        "        df.loc[insert_loc + 1] = row\n",
        "\n",
        "baseline = [\"GaussanNB Classifier\" , GaussianNB['Accuracy'].mean(), GaussianNB['Time Consumed'].mean(), GaussianNB['WER'].mean(), GaussianNB['CER'].mean() ]\n",
        "insert(df,baseline)\n",
        "svm_exp =  [\"Linear SVM Classifier\" , SVM['Accuracy'].mean(), SVM['Time Consumed'].mean(), SVM['WER'].mean(), SVM['CER'].mean() ]\n",
        "insert(df,svm_exp)\n",
        "single_layer_exp = [\"Single Layer Neural Network Classifier\" , Single_Layer_NN['Accuracy'].mean(), Single_Layer_NN['Time Consumed'].mean(), Single_Layer_NN['WER'].mean(), Single_Layer_NN['CER'].mean() ]\n",
        "insert(df,single_layer_exp)\n",
        "multi_layer_exp = [\"Multi Layer Neural Network Classifier\" , Muiti_Layer_NN['Accuracy'].mean(), Muiti_Layer_NN['Time Consumed'].mean(), Muiti_Layer_NN['WER'].mean(), Muiti_Layer_NN['CER'].mean() ]\n",
        "insert(df,multi_layer_exp)\n",
        "\n",
        "df.head()\n"
      ],
      "metadata": {
        "colab": {
          "base_uri": "https://localhost:8080/",
          "height": 175
        },
        "id": "KWB-J9iLpjB3",
        "outputId": "0c06956c-b23b-4bb4-e05f-cf68f9c31665"
      },
      "execution_count": null,
      "outputs": [
        {
          "output_type": "execute_result",
          "data": {
            "text/plain": [
              "                                    Model  Accuracy  Average Time Consumed  \\\n",
              "0                    GaussanNB Classifier  0.820979               2.431328   \n",
              "1                   Linear SVM Classifier  0.948657              10.794353   \n",
              "2  Single Layer Neural Network Classifier  0.956104              11.119804   \n",
              "3   Multi Layer Neural Network Classifier  0.958660              12.291457   \n",
              "\n",
              "         WER        CER  \n",
              "0  59.604500  15.649815  \n",
              "1  16.618625   4.720995  \n",
              "2  13.756245   4.148020  \n",
              "3  13.153375   3.821735  "
            ],
            "text/html": [
              "\n",
              "  <div id=\"df-1b0d6560-a15d-4cc7-a5d4-e48f5076d450\">\n",
              "    <div class=\"colab-df-container\">\n",
              "      <div>\n",
              "<style scoped>\n",
              "    .dataframe tbody tr th:only-of-type {\n",
              "        vertical-align: middle;\n",
              "    }\n",
              "\n",
              "    .dataframe tbody tr th {\n",
              "        vertical-align: top;\n",
              "    }\n",
              "\n",
              "    .dataframe thead th {\n",
              "        text-align: right;\n",
              "    }\n",
              "</style>\n",
              "<table border=\"1\" class=\"dataframe\">\n",
              "  <thead>\n",
              "    <tr style=\"text-align: right;\">\n",
              "      <th></th>\n",
              "      <th>Model</th>\n",
              "      <th>Accuracy</th>\n",
              "      <th>Average Time Consumed</th>\n",
              "      <th>WER</th>\n",
              "      <th>CER</th>\n",
              "    </tr>\n",
              "  </thead>\n",
              "  <tbody>\n",
              "    <tr>\n",
              "      <th>0</th>\n",
              "      <td>GaussanNB Classifier</td>\n",
              "      <td>0.820979</td>\n",
              "      <td>2.431328</td>\n",
              "      <td>59.604500</td>\n",
              "      <td>15.649815</td>\n",
              "    </tr>\n",
              "    <tr>\n",
              "      <th>1</th>\n",
              "      <td>Linear SVM Classifier</td>\n",
              "      <td>0.948657</td>\n",
              "      <td>10.794353</td>\n",
              "      <td>16.618625</td>\n",
              "      <td>4.720995</td>\n",
              "    </tr>\n",
              "    <tr>\n",
              "      <th>2</th>\n",
              "      <td>Single Layer Neural Network Classifier</td>\n",
              "      <td>0.956104</td>\n",
              "      <td>11.119804</td>\n",
              "      <td>13.756245</td>\n",
              "      <td>4.148020</td>\n",
              "    </tr>\n",
              "    <tr>\n",
              "      <th>3</th>\n",
              "      <td>Multi Layer Neural Network Classifier</td>\n",
              "      <td>0.958660</td>\n",
              "      <td>12.291457</td>\n",
              "      <td>13.153375</td>\n",
              "      <td>3.821735</td>\n",
              "    </tr>\n",
              "  </tbody>\n",
              "</table>\n",
              "</div>\n",
              "      <button class=\"colab-df-convert\" onclick=\"convertToInteractive('df-1b0d6560-a15d-4cc7-a5d4-e48f5076d450')\"\n",
              "              title=\"Convert this dataframe to an interactive table.\"\n",
              "              style=\"display:none;\">\n",
              "        \n",
              "  <svg xmlns=\"http://www.w3.org/2000/svg\" height=\"24px\"viewBox=\"0 0 24 24\"\n",
              "       width=\"24px\">\n",
              "    <path d=\"M0 0h24v24H0V0z\" fill=\"none\"/>\n",
              "    <path d=\"M18.56 5.44l.94 2.06.94-2.06 2.06-.94-2.06-.94-.94-2.06-.94 2.06-2.06.94zm-11 1L8.5 8.5l.94-2.06 2.06-.94-2.06-.94L8.5 2.5l-.94 2.06-2.06.94zm10 10l.94 2.06.94-2.06 2.06-.94-2.06-.94-.94-2.06-.94 2.06-2.06.94z\"/><path d=\"M17.41 7.96l-1.37-1.37c-.4-.4-.92-.59-1.43-.59-.52 0-1.04.2-1.43.59L10.3 9.45l-7.72 7.72c-.78.78-.78 2.05 0 2.83L4 21.41c.39.39.9.59 1.41.59.51 0 1.02-.2 1.41-.59l7.78-7.78 2.81-2.81c.8-.78.8-2.07 0-2.86zM5.41 20L4 18.59l7.72-7.72 1.47 1.35L5.41 20z\"/>\n",
              "  </svg>\n",
              "      </button>\n",
              "      \n",
              "  <style>\n",
              "    .colab-df-container {\n",
              "      display:flex;\n",
              "      flex-wrap:wrap;\n",
              "      gap: 12px;\n",
              "    }\n",
              "\n",
              "    .colab-df-convert {\n",
              "      background-color: #E8F0FE;\n",
              "      border: none;\n",
              "      border-radius: 50%;\n",
              "      cursor: pointer;\n",
              "      display: none;\n",
              "      fill: #1967D2;\n",
              "      height: 32px;\n",
              "      padding: 0 0 0 0;\n",
              "      width: 32px;\n",
              "    }\n",
              "\n",
              "    .colab-df-convert:hover {\n",
              "      background-color: #E2EBFA;\n",
              "      box-shadow: 0px 1px 2px rgba(60, 64, 67, 0.3), 0px 1px 3px 1px rgba(60, 64, 67, 0.15);\n",
              "      fill: #174EA6;\n",
              "    }\n",
              "\n",
              "    [theme=dark] .colab-df-convert {\n",
              "      background-color: #3B4455;\n",
              "      fill: #D2E3FC;\n",
              "    }\n",
              "\n",
              "    [theme=dark] .colab-df-convert:hover {\n",
              "      background-color: #434B5C;\n",
              "      box-shadow: 0px 1px 3px 1px rgba(0, 0, 0, 0.15);\n",
              "      filter: drop-shadow(0px 1px 2px rgba(0, 0, 0, 0.3));\n",
              "      fill: #FFFFFF;\n",
              "    }\n",
              "  </style>\n",
              "\n",
              "      <script>\n",
              "        const buttonEl =\n",
              "          document.querySelector('#df-1b0d6560-a15d-4cc7-a5d4-e48f5076d450 button.colab-df-convert');\n",
              "        buttonEl.style.display =\n",
              "          google.colab.kernel.accessAllowed ? 'block' : 'none';\n",
              "\n",
              "        async function convertToInteractive(key) {\n",
              "          const element = document.querySelector('#df-1b0d6560-a15d-4cc7-a5d4-e48f5076d450');\n",
              "          const dataTable =\n",
              "            await google.colab.kernel.invokeFunction('convertToInteractive',\n",
              "                                                     [key], {});\n",
              "          if (!dataTable) return;\n",
              "\n",
              "          const docLinkHtml = 'Like what you see? Visit the ' +\n",
              "            '<a target=\"_blank\" href=https://colab.research.google.com/notebooks/data_table.ipynb>data table notebook</a>'\n",
              "            + ' to learn more about interactive tables.';\n",
              "          element.innerHTML = '';\n",
              "          dataTable['output_type'] = 'display_data';\n",
              "          await google.colab.output.renderOutput(dataTable, element);\n",
              "          const docLink = document.createElement('div');\n",
              "          docLink.innerHTML = docLinkHtml;\n",
              "          element.appendChild(docLink);\n",
              "        }\n",
              "      </script>\n",
              "    </div>\n",
              "  </div>\n",
              "  "
            ]
          },
          "metadata": {},
          "execution_count": 31
        }
      ]
    }
  ]
}